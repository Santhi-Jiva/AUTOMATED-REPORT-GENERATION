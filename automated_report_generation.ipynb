{
 "cells": [
  {
   "cell_type": "code",
   "execution_count": 2,
   "id": "b8b75c78-705a-4a13-a23e-8de483cfde96",
   "metadata": {},
   "outputs": [
    {
     "name": "stdout",
     "output_type": "stream",
     "text": [
      "Requirement already satisfied: fpdf in /home/rguktongole/.local/lib/python3.8/site-packages (1.7.2)\n",
      "Requirement already satisfied: pandas in /home/rguktongole/.local/lib/python3.8/site-packages (2.0.3)\n",
      "Requirement already satisfied: tzdata>=2022.1 in /home/rguktongole/.local/lib/python3.8/site-packages (from pandas) (2023.4)\n",
      "Requirement already satisfied: pytz>=2020.1 in /home/rguktongole/.local/lib/python3.8/site-packages (from pandas) (2024.1)\n",
      "Requirement already satisfied: numpy>=1.20.3; python_version < \"3.10\" in /home/rguktongole/.local/lib/python3.8/site-packages (from pandas) (1.24.4)\n",
      "Requirement already satisfied: python-dateutil>=2.8.2 in /home/rguktongole/.local/lib/python3.8/site-packages (from pandas) (2.9.0.post0)\n",
      "Requirement already satisfied: six>=1.5 in /usr/lib/python3/dist-packages (from python-dateutil>=2.8.2->pandas) (1.14.0)\n",
      "Note: you may need to restart the kernel to use updated packages.\n"
     ]
    }
   ],
   "source": [
    "pip install fpdf pandas\n"
   ]
  },
  {
   "cell_type": "code",
   "execution_count": 3,
   "id": "037a7414-5451-434a-90be-20a9065899bf",
   "metadata": {},
   "outputs": [
    {
     "name": "stdout",
     "output_type": "stream",
     "text": [
      "PDF report generated: sales_report.pdf\n"
     ]
    }
   ],
   "source": [
    "import pandas as pd\n",
    "from fpdf import FPDF\n",
    "\n",
    "# Step 1: Read the CSV file\n",
    "data = pd.read_csv(\"/home/rguktongole/Downloads/sample_data.csv\")\n",
    "\n",
    "# Step 2: Analyze the data\n",
    "total_sales = data[\"Sales\"].sum()\n",
    "average_sales = data[\"Sales\"].mean()\n",
    "max_sales = data[\"Sales\"].max()\n",
    "min_sales = data[\"Sales\"].min()\n",
    "top_seller = data.loc[data[\"Sales\"].idxmax(), \"Name\"]\n",
    "\n",
    "# Step 3: Generate PDF report\n",
    "pdf = FPDF()\n",
    "pdf.add_page()\n",
    "pdf.set_font(\"Arial\", size=14)\n",
    "pdf.set_text_color(40, 40, 40)\n",
    "\n",
    "# Title\n",
    "pdf.set_font(\"Arial\", 'B', 16)\n",
    "pdf.cell(200, 10, txt=\"Sales Report\", ln=True, align='C')\n",
    "pdf.ln(10)\n",
    "\n",
    "# Summary\n",
    "pdf.set_font(\"Arial\", size=12)\n",
    "pdf.cell(200, 10, txt=f\"Total Sales: ${total_sales}\", ln=True)\n",
    "pdf.cell(200, 10, txt=f\"Average Sales: ${average_sales:.2f}\", ln=True)\n",
    "pdf.cell(200, 10, txt=f\"Highest Sale: ${max_sales} by {top_seller}\", ln=True)\n",
    "pdf.cell(200, 10, txt=f\"Lowest Sale: ${min_sales}\", ln=True)\n",
    "pdf.ln(10)\n",
    "\n",
    "# Table header\n",
    "pdf.set_font(\"Arial\", 'B', 12)\n",
    "pdf.cell(60, 10, \"Name\", 1)\n",
    "pdf.cell(40, 10, \"Sales\", 1)\n",
    "pdf.cell(60, 10, \"Region\", 1)\n",
    "pdf.ln()\n",
    "\n",
    "# Table content\n",
    "pdf.set_font(\"Arial\", size=12)\n",
    "for index, row in data.iterrows():\n",
    "    pdf.cell(60, 10, row[\"Name\"], 1)\n",
    "    pdf.cell(40, 10, str(row[\"Sales\"]), 1)\n",
    "    pdf.cell(60, 10, row[\"Region\"], 1)\n",
    "    pdf.ln()\n",
    "\n",
    "# Save PDF\n",
    "pdf.output(\"sales_report.pdf\")\n",
    "\n",
    "print(\"PDF report generated: sales_report.pdf\")\n",
    "\n",
    "\n"
   ]
  },
  {
   "cell_type": "code",
   "execution_count": null,
   "id": "cf3e94ee-8fed-4a3c-90c3-24e7a19792ce",
   "metadata": {},
   "outputs": [],
   "source": []
  }
 ],
 "metadata": {
  "kernelspec": {
   "display_name": "Python 3 (ipykernel)",
   "language": "python",
   "name": "python3"
  },
  "language_info": {
   "codemirror_mode": {
    "name": "ipython",
    "version": 3
   },
   "file_extension": ".py",
   "mimetype": "text/x-python",
   "name": "python",
   "nbconvert_exporter": "python",
   "pygments_lexer": "ipython3",
   "version": "3.8.10"
  }
 },
 "nbformat": 4,
 "nbformat_minor": 5
}
